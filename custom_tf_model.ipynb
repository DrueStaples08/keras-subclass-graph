{
  "nbformat": 4,
  "nbformat_minor": 0,
  "metadata": {
    "colab": {
      "provenance": []
    },
    "kernelspec": {
      "name": "python3",
      "display_name": "Python 3"
    },
    "language_info": {
      "name": "python"
    },
    "accelerator": "GPU",
    "gpuClass": "standard"
  },
  "cells": [
    {
      "cell_type": "code",
      "execution_count": 1,
      "metadata": {
        "id": "h2rTeP7iD3He"
      },
      "outputs": [],
      "source": [
        "# Task is to use subclassing to create a new model that can have each layer implemented with graph execution (i.e. tensorflow's tf.function())"
      ]
    },
    {
      "cell_type": "code",
      "source": [
        "import numpy as np\n",
        "import tensorflow as tf\n",
        "from tensorflow.keras.layers import Embedding, Dense, GRU, Input"
      ],
      "metadata": {
        "id": "qSW6ePekEK3V"
      },
      "execution_count": 1,
      "outputs": []
    },
    {
      "cell_type": "code",
      "source": [
        "y = np.array([[1,0,0],[0,0,1],[0,0,1],[0,1,0],[1,0,0],[1,0,0],[0,0,1],[0,1,0],[0,1,0]])\n",
        "X = np.array([[4.3],[3.8],[2.2],[4.2],[1.9],[1.1],[4.8],[3.2],[4.4]])\n",
        "# y = np.array([1,1,3,3,2,1,2,3,2])\n",
        "input_shape = X.shape\n",
        "print(input_shape, y.shape)"
      ],
      "metadata": {
        "colab": {
          "base_uri": "https://localhost:8080/"
        },
        "id": "lV5UtXAybKwR",
        "outputId": "37d90f7b-a65e-4e6a-ff47-38c851a4187a"
      },
      "execution_count": 2,
      "outputs": [
        {
          "output_type": "stream",
          "name": "stdout",
          "text": [
            "(9, 1) (9, 3)\n"
          ]
        }
      ]
    },
    {
      "cell_type": "code",
      "source": [
        "class Model(tf.keras.Model):\n",
        "    def __init__(self, max_features, embedding_dimension):\n",
        "        # self.max_features = 20 #20000\n",
        "        # self.embedding_dimension = 9 #128\n",
        "        super(Model, self).__init__()\n",
        "        self.max_features = max_features #20000 use 20\n",
        "        self.embedding_dimension = embedding_dimension #128 use 9\n",
        "        # self.input = Input((9))\n",
        "        self.embedding = Embedding(self.max_features, self.embedding_dimension, name='1-embedding')\n",
        "        self.gru = GRU(32, name='2-gru')\n",
        "        self.dense = Dense(3, activation='softmax', name='3-dense')\n",
        "\n",
        "    @tf.function\n",
        "    def call(self, inputs):\n",
        "        x = self.embedding(inputs)\n",
        "        x = self.gru(x)\n",
        "        return self.dense(x)\n",
        "        #return x\n"
      ],
      "metadata": {
        "id": "j3vADz7sEOql"
      },
      "execution_count": 3,
      "outputs": []
    },
    {
      "cell_type": "code",
      "source": [
        "max_feats = 20\n",
        "emb_dim = 9\n",
        "model = Model(max_feats, emb_dim)\n",
        "# model = Model()\n",
        "# model.build(input_shape)\n",
        "input_shape = Input((9)).shape\n",
        "model.build(input_shape)\n",
        "model.compile(loss='categorical_crossentropy', optimizer='adam', metrics=['accuracy'])"
      ],
      "metadata": {
        "id": "oy9S8yR3EpNK"
      },
      "execution_count": 4,
      "outputs": []
    },
    {
      "cell_type": "code",
      "source": [
        "model.max_features, model.embedding_dimension"
      ],
      "metadata": {
        "colab": {
          "base_uri": "https://localhost:8080/"
        },
        "id": "2rR3N_UGdfbq",
        "outputId": "5fa46825-b62a-4aed-967a-c8b3b5bf3dd2"
      },
      "execution_count": 5,
      "outputs": [
        {
          "output_type": "execute_result",
          "data": {
            "text/plain": [
              "(20, 9)"
            ]
          },
          "metadata": {},
          "execution_count": 5
        }
      ]
    },
    {
      "cell_type": "code",
      "source": [
        "model.summary()"
      ],
      "metadata": {
        "colab": {
          "base_uri": "https://localhost:8080/"
        },
        "id": "LIL_8AvUd7KR",
        "outputId": "eb7d53a1-efc1-4f46-c377-ba40337bee1c"
      },
      "execution_count": 6,
      "outputs": [
        {
          "output_type": "stream",
          "name": "stdout",
          "text": [
            "Model: \"model\"\n",
            "_________________________________________________________________\n",
            " Layer (type)                Output Shape              Param #   \n",
            "=================================================================\n",
            " 1-embedding (Embedding)     multiple                  180       \n",
            "                                                                 \n",
            " 2-gru (GRU)                 multiple                  4128      \n",
            "                                                                 \n",
            " 3-dense (Dense)             multiple                  99        \n",
            "                                                                 \n",
            "=================================================================\n",
            "Total params: 4,407\n",
            "Trainable params: 4,407\n",
            "Non-trainable params: 0\n",
            "_________________________________________________________________\n"
          ]
        }
      ]
    },
    {
      "cell_type": "code",
      "source": [
        "model.fit(X, y, epochs=15, batch_size=3, shuffle=True)"
      ],
      "metadata": {
        "colab": {
          "base_uri": "https://localhost:8080/"
        },
        "id": "Nil5xdRSeAWA",
        "outputId": "b35cfdb4-69f7-4580-b2b0-97683515b8e9"
      },
      "execution_count": 7,
      "outputs": [
        {
          "output_type": "stream",
          "name": "stdout",
          "text": [
            "Epoch 1/15\n",
            "3/3 [==============================] - 6s 7ms/step - loss: 1.1048 - accuracy: 0.0000e+00\n",
            "Epoch 2/15\n",
            "3/3 [==============================] - 0s 6ms/step - loss: 1.1014 - accuracy: 0.1111\n",
            "Epoch 3/15\n",
            "3/3 [==============================] - 0s 5ms/step - loss: 1.1004 - accuracy: 0.2222\n",
            "Epoch 4/15\n",
            "3/3 [==============================] - 0s 5ms/step - loss: 1.0998 - accuracy: 0.3333\n",
            "Epoch 5/15\n",
            "3/3 [==============================] - 0s 5ms/step - loss: 1.0983 - accuracy: 0.3333\n",
            "Epoch 6/15\n",
            "3/3 [==============================] - 0s 5ms/step - loss: 1.0975 - accuracy: 0.3333\n",
            "Epoch 7/15\n",
            "3/3 [==============================] - 0s 8ms/step - loss: 1.0968 - accuracy: 0.2222\n",
            "Epoch 8/15\n",
            "3/3 [==============================] - 0s 5ms/step - loss: 1.0961 - accuracy: 0.4444\n",
            "Epoch 9/15\n",
            "3/3 [==============================] - 0s 5ms/step - loss: 1.0949 - accuracy: 0.5556\n",
            "Epoch 10/15\n",
            "3/3 [==============================] - 0s 5ms/step - loss: 1.0938 - accuracy: 0.5556\n",
            "Epoch 11/15\n",
            "3/3 [==============================] - 0s 5ms/step - loss: 1.0935 - accuracy: 0.5556\n",
            "Epoch 12/15\n",
            "3/3 [==============================] - 0s 6ms/step - loss: 1.0921 - accuracy: 0.5556\n",
            "Epoch 13/15\n",
            "3/3 [==============================] - 0s 5ms/step - loss: 1.0914 - accuracy: 0.5556\n",
            "Epoch 14/15\n",
            "3/3 [==============================] - 0s 5ms/step - loss: 1.0904 - accuracy: 0.5556\n",
            "Epoch 15/15\n",
            "3/3 [==============================] - 0s 5ms/step - loss: 1.0890 - accuracy: 0.5556\n"
          ]
        },
        {
          "output_type": "execute_result",
          "data": {
            "text/plain": [
              "<keras.callbacks.History at 0x7ff360067250>"
            ]
          },
          "metadata": {},
          "execution_count": 7
        }
      ]
    },
    {
      "cell_type": "code",
      "source": [],
      "metadata": {
        "id": "BU1y7dq-hKCi"
      },
      "execution_count": 7,
      "outputs": []
    }
  ]
}